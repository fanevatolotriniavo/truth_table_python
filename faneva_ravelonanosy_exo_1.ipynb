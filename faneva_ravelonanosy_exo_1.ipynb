{
 "cells": [
  {
   "cell_type": "code",
   "execution_count": 1,
   "id": "09504265-aed2-4885-91fc-2180db5c903d",
   "metadata": {},
   "outputs": [],
   "source": [
    "# Package ilaina\n",
    "import pandas\n",
    "from itertools import product"
   ]
  },
  {
   "cell_type": "markdown",
   "id": "db6e3723-9b49-455f-8159-e8c57c1538b2",
   "metadata": {},
   "source": [
    "# 0- Quelques examples de fonction logique"
   ]
  },
  {
   "cell_type": "code",
   "execution_count": 2,
   "id": "d0f3a6e7-3115-43f8-ae79-7dbb2254bbc9",
   "metadata": {},
   "outputs": [],
   "source": [
    "# identite\n",
    "\n",
    "def identite(p):\n",
    "    return p"
   ]
  },
  {
   "cell_type": "code",
   "execution_count": 3,
   "id": "b6822edd-fc3e-4557-bd06-148c1ec9242e",
   "metadata": {},
   "outputs": [],
   "source": [
    "# negation\n",
    "def neg_p(p):\n",
    "    return (not p)"
   ]
  },
  {
   "cell_type": "code",
   "execution_count": 4,
   "id": "25beae96-9590-4ca7-af14-a4561c25465f",
   "metadata": {},
   "outputs": [],
   "source": [
    "# l'operateur \"et\"\n",
    "\n",
    "def p_et_q(p,q):\n",
    "    return p and q"
   ]
  },
  {
   "cell_type": "code",
   "execution_count": 5,
   "id": "f7543a74-2af3-430e-b0ce-d9eed033e6af",
   "metadata": {},
   "outputs": [],
   "source": [
    "# L'operateur ou\n",
    "\n",
    "def p_ou_q(p,q):\n",
    "    return p or q"
   ]
  },
  {
   "cell_type": "code",
   "execution_count": 6,
   "id": "4338b732-f633-4bdf-8870-1f1f438f4fdf",
   "metadata": {},
   "outputs": [],
   "source": [
    "# l\"operateur \"implique\"\n",
    "\n",
    "def p_implique_q(p,q):\n",
    "    return (not p) or q"
   ]
  },
  {
   "cell_type": "code",
   "execution_count": 7,
   "id": "70f85532-ba06-403c-ac65-86e23f1b9d76",
   "metadata": {},
   "outputs": [],
   "source": [
    "# L'operateur equivalence:\n",
    "\n",
    "def p_equivalent_q(p,q):\n",
    "    return p_et_q(p_implique_q(p,q) , p_implique_q(q,p))"
   ]
  },
  {
   "cell_type": "code",
   "execution_count": null,
   "id": "a7431701-d267-4360-ac72-61fd52c3ddb4",
   "metadata": {},
   "outputs": [],
   "source": []
  },
  {
   "cell_type": "markdown",
   "id": "54858e7f-1806-46e2-adde-5d6a0656cdb9",
   "metadata": {},
   "source": [
    "# 1- Table de verite et forme canoniques d'une fonction logique"
   ]
  },
  {
   "cell_type": "code",
   "execution_count": 8,
   "id": "c478e546-91c4-4f62-912f-aab6d1b96b57",
   "metadata": {},
   "outputs": [],
   "source": [
    "def ma_table_de_verite(f):\n",
    "\n",
    "    \"\"\"\n",
    "    f: fonction logique io f io, mitovy amin'ilay ohatra eo ambony. Io no apidirina amin'ity fonction ity.\n",
    "    return: ny zavatra avoaka dia ny table de verite an'ny fonction f. Natao pandas dataframe izany.\n",
    "    \"\"\"\n",
    "\n",
    "    # 1- alaivo daoly ny boolean variable apesain'ny fonction f, jereo oe firy ny isany: f.__code__.co_argcount no mijery an'izay amin'ny python \n",
    "    # [Raha n no isany, dia misy possibilite 2^n ny valeur-any (True na False iany ny variable ray) ]\n",
    "    \n",
    "    # 2- Atao lisitra ny valeur possible rehetra, ary calculena ny image-ny par f: product([True,False],repeat = f.__code__.co_argcount). \n",
    "    # (Rahe n no isan'ny variable dia 2^n no possibilite satria True na False iany ny variable ray)\n",
    "    \n",
    "    valeur_possible = [list(x) + [f(*x)] for x in product([True,False],repeat = f.__code__.co_argcount)]\n",
    "\n",
    "\n",
    "    # 3- atao table amin'ny pandas dataframe: ny ligne dia ny valeur possible, ny colonne kosa dia ny anaran'ny variable sy f:\n",
    "    \n",
    "    table = pandas.DataFrame(valeur_possible, columns = (list(f.__code__.co_varnames) + [f.__name__] )  )\n",
    "\n",
    "\n",
    "    # FORMES CANONIQUE ========================================================================================================================\n",
    "    \n",
    "    liste_variables = list(f.__code__.co_varnames) # alaina ny liste an'ny variable\n",
    "    \n",
    "    # 1- premiere form canonique ++++++++++++++++++++++++++++++++++++++++++++++++++++++++++++++++++\n",
    "    \n",
    "    # alaina daoly ny valeur maha True an'ilay f\n",
    "    verite = table[table[f.__name__] == True]    \n",
    "\n",
    "\n",
    "    # initializeo ilay forme canonique: mbola tsy misy inin izy eto\n",
    "    forme_canonique = \"\"\n",
    "    \n",
    "    for i in range(verite.shape[0]): # Manao boucle for isaky ny ligne\n",
    "        \n",
    "        for a in liste_variables: # Manao boucle for isaky ny argument an'ilay fonction f\n",
    "            \n",
    "            # ra ohatra ka True ny valeur ao dia apina \"1\"\n",
    "            if verite.iloc[[i]][a].bool() == True: \n",
    "                forme_canonique += \"1\"\n",
    "                \n",
    "            else:\n",
    "                forme_canonique += \"0\"\n",
    "\n",
    "                \n",
    "        # forme canonique:\n",
    "        if (i != verite.shape[0]-1):\n",
    "            forme_canonique += \" + \"\n",
    "\n",
    "\n",
    "    # 2- 2em forme canonique +++++++++++++++++++++++++++++++++++++++++++++++++++++++++++++++++++++++\n",
    "    # alaina daoly ny valeur maha False an'ilay f\n",
    "    mensonge = table[table[f.__name__] == False]\n",
    "\n",
    "\n",
    "    # initializeo ilay forme canonique: mbola tsy misy inin izy eto\n",
    "    forme_canonique_1 = \"\"\n",
    "    \n",
    "    for i in range(mensonge.shape[0]): # Manao boucle for isaky ny ligne\n",
    "         forme_canonique_1 += \"(\"\n",
    "        \n",
    "         for a in liste_variables: # Manao boucle for isaky ny argument an'ilay fonction f\n",
    "            \n",
    "             # ra ohatra ka True ny valeur ao dia apina \"0\" (Loi de Morgan)\n",
    "             if mensonge.iloc[[i]][a].bool() == True: \n",
    "                 if a != liste_variables[-1]:\n",
    "                     forme_canonique_1 += \"0 + \"\n",
    "                 else:\n",
    "                     forme_canonique_1 += \"0\"\n",
    "             \n",
    "        \n",
    "    \n",
    "                \n",
    "             else:\n",
    "                 if a != liste_variables[-1]:\n",
    "                     forme_canonique_1 += \"1 + \"\n",
    "                 else:\n",
    "                     forme_canonique_1 += \"1\"\n",
    "         forme_canonique_1 += \") \"\n",
    "\n",
    "    \n",
    "    \n",
    "    # soraty ny valiny farany    \n",
    "    print(\"La fonction est: \", f.__name__)\n",
    "    print(\"Les variables de la fonction sont (dans cette ordre): \", liste_variables, \"\\n\")\n",
    "    \n",
    "    \n",
    "    print(\"La forme canonique de \", f.__name__, \" est: \", forme_canonique, \"\\n\")\n",
    "\n",
    "    print(\"La seconde forme canonique de \", f.__name__, \" est: \", forme_canonique_1, \"\\n\")\n",
    "\n",
    "\n",
    "    print(\"La table de verite de \", f.__name__, \" est: \")   \n",
    "\n",
    "    \n",
    "    return table"
   ]
  },
  {
   "cell_type": "markdown",
   "id": "d21ea16e-5273-46bc-9e5b-ecc12a676978",
   "metadata": {},
   "source": [
    "## Example d'applications"
   ]
  },
  {
   "cell_type": "code",
   "execution_count": 9,
   "id": "2e433d46-2bc1-4f79-92ff-ab7e853c016c",
   "metadata": {},
   "outputs": [
    {
     "name": "stdout",
     "output_type": "stream",
     "text": [
      "La fonction est:  identite\n",
      "Les variables de la fonction sont (dans cette ordre):  ['p'] \n",
      "\n",
      "La forme canonique de  identite  est:  1 \n",
      "\n",
      "La seconde forme canonique de  identite  est:  (1)  \n",
      "\n",
      "La table de verite de  identite  est: \n"
     ]
    },
    {
     "data": {
      "text/html": [
       "<div>\n",
       "<style scoped>\n",
       "    .dataframe tbody tr th:only-of-type {\n",
       "        vertical-align: middle;\n",
       "    }\n",
       "\n",
       "    .dataframe tbody tr th {\n",
       "        vertical-align: top;\n",
       "    }\n",
       "\n",
       "    .dataframe thead th {\n",
       "        text-align: right;\n",
       "    }\n",
       "</style>\n",
       "<table border=\"1\" class=\"dataframe\">\n",
       "  <thead>\n",
       "    <tr style=\"text-align: right;\">\n",
       "      <th></th>\n",
       "      <th>p</th>\n",
       "      <th>identite</th>\n",
       "    </tr>\n",
       "  </thead>\n",
       "  <tbody>\n",
       "    <tr>\n",
       "      <th>0</th>\n",
       "      <td>True</td>\n",
       "      <td>True</td>\n",
       "    </tr>\n",
       "    <tr>\n",
       "      <th>1</th>\n",
       "      <td>False</td>\n",
       "      <td>False</td>\n",
       "    </tr>\n",
       "  </tbody>\n",
       "</table>\n",
       "</div>"
      ],
      "text/plain": [
       "       p  identite\n",
       "0   True      True\n",
       "1  False     False"
      ]
     },
     "execution_count": 9,
     "metadata": {},
     "output_type": "execute_result"
    }
   ],
   "source": [
    "# table de verite de l'identite\n",
    "ma_table_de_verite(identite)"
   ]
  },
  {
   "cell_type": "code",
   "execution_count": 10,
   "id": "42930316-7fcb-4da4-a37d-50f62f441cc3",
   "metadata": {},
   "outputs": [
    {
     "name": "stdout",
     "output_type": "stream",
     "text": [
      "La fonction est:  neg_p\n",
      "Les variables de la fonction sont (dans cette ordre):  ['p'] \n",
      "\n",
      "La forme canonique de  neg_p  est:  0 \n",
      "\n",
      "La seconde forme canonique de  neg_p  est:  (0)  \n",
      "\n",
      "La table de verite de  neg_p  est: \n"
     ]
    },
    {
     "data": {
      "text/html": [
       "<div>\n",
       "<style scoped>\n",
       "    .dataframe tbody tr th:only-of-type {\n",
       "        vertical-align: middle;\n",
       "    }\n",
       "\n",
       "    .dataframe tbody tr th {\n",
       "        vertical-align: top;\n",
       "    }\n",
       "\n",
       "    .dataframe thead th {\n",
       "        text-align: right;\n",
       "    }\n",
       "</style>\n",
       "<table border=\"1\" class=\"dataframe\">\n",
       "  <thead>\n",
       "    <tr style=\"text-align: right;\">\n",
       "      <th></th>\n",
       "      <th>p</th>\n",
       "      <th>neg_p</th>\n",
       "    </tr>\n",
       "  </thead>\n",
       "  <tbody>\n",
       "    <tr>\n",
       "      <th>0</th>\n",
       "      <td>True</td>\n",
       "      <td>False</td>\n",
       "    </tr>\n",
       "    <tr>\n",
       "      <th>1</th>\n",
       "      <td>False</td>\n",
       "      <td>True</td>\n",
       "    </tr>\n",
       "  </tbody>\n",
       "</table>\n",
       "</div>"
      ],
      "text/plain": [
       "       p  neg_p\n",
       "0   True  False\n",
       "1  False   True"
      ]
     },
     "execution_count": 10,
     "metadata": {},
     "output_type": "execute_result"
    }
   ],
   "source": [
    "# table de verite de la negation\n",
    "ma_table_de_verite(neg_p)"
   ]
  },
  {
   "cell_type": "code",
   "execution_count": 11,
   "id": "1c72de4b-ba82-498c-96e0-a9f4248bcd21",
   "metadata": {},
   "outputs": [
    {
     "name": "stdout",
     "output_type": "stream",
     "text": [
      "La fonction est:  p_et_q\n",
      "Les variables de la fonction sont (dans cette ordre):  ['p', 'q'] \n",
      "\n",
      "La forme canonique de  p_et_q  est:  11 \n",
      "\n",
      "La seconde forme canonique de  p_et_q  est:  (0 + 1) (1 + 0) (1 + 1)  \n",
      "\n",
      "La table de verite de  p_et_q  est: \n"
     ]
    },
    {
     "data": {
      "text/html": [
       "<div>\n",
       "<style scoped>\n",
       "    .dataframe tbody tr th:only-of-type {\n",
       "        vertical-align: middle;\n",
       "    }\n",
       "\n",
       "    .dataframe tbody tr th {\n",
       "        vertical-align: top;\n",
       "    }\n",
       "\n",
       "    .dataframe thead th {\n",
       "        text-align: right;\n",
       "    }\n",
       "</style>\n",
       "<table border=\"1\" class=\"dataframe\">\n",
       "  <thead>\n",
       "    <tr style=\"text-align: right;\">\n",
       "      <th></th>\n",
       "      <th>p</th>\n",
       "      <th>q</th>\n",
       "      <th>p_et_q</th>\n",
       "    </tr>\n",
       "  </thead>\n",
       "  <tbody>\n",
       "    <tr>\n",
       "      <th>0</th>\n",
       "      <td>True</td>\n",
       "      <td>True</td>\n",
       "      <td>True</td>\n",
       "    </tr>\n",
       "    <tr>\n",
       "      <th>1</th>\n",
       "      <td>True</td>\n",
       "      <td>False</td>\n",
       "      <td>False</td>\n",
       "    </tr>\n",
       "    <tr>\n",
       "      <th>2</th>\n",
       "      <td>False</td>\n",
       "      <td>True</td>\n",
       "      <td>False</td>\n",
       "    </tr>\n",
       "    <tr>\n",
       "      <th>3</th>\n",
       "      <td>False</td>\n",
       "      <td>False</td>\n",
       "      <td>False</td>\n",
       "    </tr>\n",
       "  </tbody>\n",
       "</table>\n",
       "</div>"
      ],
      "text/plain": [
       "       p      q  p_et_q\n",
       "0   True   True    True\n",
       "1   True  False   False\n",
       "2  False   True   False\n",
       "3  False  False   False"
      ]
     },
     "execution_count": 11,
     "metadata": {},
     "output_type": "execute_result"
    }
   ],
   "source": [
    "# table de verite de 'et'\n",
    "ma_table_de_verite(p_et_q)"
   ]
  },
  {
   "cell_type": "code",
   "execution_count": 12,
   "id": "fff12c08-b19e-4344-81eb-a894181b0926",
   "metadata": {},
   "outputs": [
    {
     "name": "stdout",
     "output_type": "stream",
     "text": [
      "La fonction est:  p_ou_q\n",
      "Les variables de la fonction sont (dans cette ordre):  ['p', 'q'] \n",
      "\n",
      "La forme canonique de  p_ou_q  est:  11 + 10 + 01 \n",
      "\n",
      "La seconde forme canonique de  p_ou_q  est:  (1 + 1)  \n",
      "\n",
      "La table de verite de  p_ou_q  est: \n"
     ]
    },
    {
     "data": {
      "text/html": [
       "<div>\n",
       "<style scoped>\n",
       "    .dataframe tbody tr th:only-of-type {\n",
       "        vertical-align: middle;\n",
       "    }\n",
       "\n",
       "    .dataframe tbody tr th {\n",
       "        vertical-align: top;\n",
       "    }\n",
       "\n",
       "    .dataframe thead th {\n",
       "        text-align: right;\n",
       "    }\n",
       "</style>\n",
       "<table border=\"1\" class=\"dataframe\">\n",
       "  <thead>\n",
       "    <tr style=\"text-align: right;\">\n",
       "      <th></th>\n",
       "      <th>p</th>\n",
       "      <th>q</th>\n",
       "      <th>p_ou_q</th>\n",
       "    </tr>\n",
       "  </thead>\n",
       "  <tbody>\n",
       "    <tr>\n",
       "      <th>0</th>\n",
       "      <td>True</td>\n",
       "      <td>True</td>\n",
       "      <td>True</td>\n",
       "    </tr>\n",
       "    <tr>\n",
       "      <th>1</th>\n",
       "      <td>True</td>\n",
       "      <td>False</td>\n",
       "      <td>True</td>\n",
       "    </tr>\n",
       "    <tr>\n",
       "      <th>2</th>\n",
       "      <td>False</td>\n",
       "      <td>True</td>\n",
       "      <td>True</td>\n",
       "    </tr>\n",
       "    <tr>\n",
       "      <th>3</th>\n",
       "      <td>False</td>\n",
       "      <td>False</td>\n",
       "      <td>False</td>\n",
       "    </tr>\n",
       "  </tbody>\n",
       "</table>\n",
       "</div>"
      ],
      "text/plain": [
       "       p      q  p_ou_q\n",
       "0   True   True    True\n",
       "1   True  False    True\n",
       "2  False   True    True\n",
       "3  False  False   False"
      ]
     },
     "execution_count": 12,
     "metadata": {},
     "output_type": "execute_result"
    }
   ],
   "source": [
    "# table de verite de p_ou_q\n",
    "ma_table_de_verite(p_ou_q)"
   ]
  },
  {
   "cell_type": "code",
   "execution_count": 13,
   "id": "7820eda6-370c-4140-a1d7-4acec2b497ab",
   "metadata": {},
   "outputs": [
    {
     "name": "stdout",
     "output_type": "stream",
     "text": [
      "La fonction est:  p_implique_q\n",
      "Les variables de la fonction sont (dans cette ordre):  ['p', 'q'] \n",
      "\n",
      "La forme canonique de  p_implique_q  est:  11 + 01 + 00 \n",
      "\n",
      "La seconde forme canonique de  p_implique_q  est:  (0 + 1)  \n",
      "\n",
      "La table de verite de  p_implique_q  est: \n"
     ]
    },
    {
     "data": {
      "text/html": [
       "<div>\n",
       "<style scoped>\n",
       "    .dataframe tbody tr th:only-of-type {\n",
       "        vertical-align: middle;\n",
       "    }\n",
       "\n",
       "    .dataframe tbody tr th {\n",
       "        vertical-align: top;\n",
       "    }\n",
       "\n",
       "    .dataframe thead th {\n",
       "        text-align: right;\n",
       "    }\n",
       "</style>\n",
       "<table border=\"1\" class=\"dataframe\">\n",
       "  <thead>\n",
       "    <tr style=\"text-align: right;\">\n",
       "      <th></th>\n",
       "      <th>p</th>\n",
       "      <th>q</th>\n",
       "      <th>p_implique_q</th>\n",
       "    </tr>\n",
       "  </thead>\n",
       "  <tbody>\n",
       "    <tr>\n",
       "      <th>0</th>\n",
       "      <td>True</td>\n",
       "      <td>True</td>\n",
       "      <td>True</td>\n",
       "    </tr>\n",
       "    <tr>\n",
       "      <th>1</th>\n",
       "      <td>True</td>\n",
       "      <td>False</td>\n",
       "      <td>False</td>\n",
       "    </tr>\n",
       "    <tr>\n",
       "      <th>2</th>\n",
       "      <td>False</td>\n",
       "      <td>True</td>\n",
       "      <td>True</td>\n",
       "    </tr>\n",
       "    <tr>\n",
       "      <th>3</th>\n",
       "      <td>False</td>\n",
       "      <td>False</td>\n",
       "      <td>True</td>\n",
       "    </tr>\n",
       "  </tbody>\n",
       "</table>\n",
       "</div>"
      ],
      "text/plain": [
       "       p      q  p_implique_q\n",
       "0   True   True          True\n",
       "1   True  False         False\n",
       "2  False   True          True\n",
       "3  False  False          True"
      ]
     },
     "execution_count": 13,
     "metadata": {},
     "output_type": "execute_result"
    }
   ],
   "source": [
    "#table de verite de p_implique_q\n",
    "ma_table_de_verite(p_implique_q)"
   ]
  },
  {
   "cell_type": "code",
   "execution_count": 14,
   "id": "cda3727a-53e8-48ad-b441-15cf994a8048",
   "metadata": {},
   "outputs": [
    {
     "name": "stdout",
     "output_type": "stream",
     "text": [
      "La fonction est:  p_equivalent_q\n",
      "Les variables de la fonction sont (dans cette ordre):  ['p', 'q'] \n",
      "\n",
      "La forme canonique de  p_equivalent_q  est:  11 + 00 \n",
      "\n",
      "La seconde forme canonique de  p_equivalent_q  est:  (0 + 1) (1 + 0)  \n",
      "\n",
      "La table de verite de  p_equivalent_q  est: \n"
     ]
    },
    {
     "data": {
      "text/html": [
       "<div>\n",
       "<style scoped>\n",
       "    .dataframe tbody tr th:only-of-type {\n",
       "        vertical-align: middle;\n",
       "    }\n",
       "\n",
       "    .dataframe tbody tr th {\n",
       "        vertical-align: top;\n",
       "    }\n",
       "\n",
       "    .dataframe thead th {\n",
       "        text-align: right;\n",
       "    }\n",
       "</style>\n",
       "<table border=\"1\" class=\"dataframe\">\n",
       "  <thead>\n",
       "    <tr style=\"text-align: right;\">\n",
       "      <th></th>\n",
       "      <th>p</th>\n",
       "      <th>q</th>\n",
       "      <th>p_equivalent_q</th>\n",
       "    </tr>\n",
       "  </thead>\n",
       "  <tbody>\n",
       "    <tr>\n",
       "      <th>0</th>\n",
       "      <td>True</td>\n",
       "      <td>True</td>\n",
       "      <td>True</td>\n",
       "    </tr>\n",
       "    <tr>\n",
       "      <th>1</th>\n",
       "      <td>True</td>\n",
       "      <td>False</td>\n",
       "      <td>False</td>\n",
       "    </tr>\n",
       "    <tr>\n",
       "      <th>2</th>\n",
       "      <td>False</td>\n",
       "      <td>True</td>\n",
       "      <td>False</td>\n",
       "    </tr>\n",
       "    <tr>\n",
       "      <th>3</th>\n",
       "      <td>False</td>\n",
       "      <td>False</td>\n",
       "      <td>True</td>\n",
       "    </tr>\n",
       "  </tbody>\n",
       "</table>\n",
       "</div>"
      ],
      "text/plain": [
       "       p      q  p_equivalent_q\n",
       "0   True   True            True\n",
       "1   True  False           False\n",
       "2  False   True           False\n",
       "3  False  False            True"
      ]
     },
     "execution_count": 14,
     "metadata": {},
     "output_type": "execute_result"
    }
   ],
   "source": [
    "# table de verite de p_equivalent_q\n",
    "ma_table_de_verite(p_equivalent_q)"
   ]
  },
  {
   "cell_type": "code",
   "execution_count": null,
   "id": "24df8f57-24b7-4236-b1b6-d454d0cfc4d8",
   "metadata": {},
   "outputs": [],
   "source": []
  },
  {
   "cell_type": "code",
   "execution_count": null,
   "id": "bf99a9f5-2652-48b3-8b87-10266e7e9b66",
   "metadata": {},
   "outputs": [],
   "source": []
  }
 ],
 "metadata": {
  "kernelspec": {
   "display_name": "Python 3 (ipykernel)",
   "language": "python",
   "name": "python3"
  },
  "language_info": {
   "codemirror_mode": {
    "name": "ipython",
    "version": 3
   },
   "file_extension": ".py",
   "mimetype": "text/x-python",
   "name": "python",
   "nbconvert_exporter": "python",
   "pygments_lexer": "ipython3",
   "version": "3.11.8"
  }
 },
 "nbformat": 4,
 "nbformat_minor": 5
}
